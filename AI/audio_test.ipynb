{
 "cells": [
  {
   "cell_type": "code",
   "execution_count": 245,
   "metadata": {},
   "outputs": [],
   "source": [
    "from torch.utils.data import DataLoader\n",
    "from torchvision import datasets, transforms\n",
    "import torch\n",
    "import torchaudio\n",
    "import torch.nn as nn\n",
    "import torch.nn.functional as F\n",
    "import torch.optim as optim\n",
    "import numpy as np\n",
    "import matplotlib.pyplot as plt\n",
    "from torch.utils.data import Dataset, DataLoader\n",
    "from torchvision import datasets, models, transforms\n",
    "from torchinfo import summary\n",
    "import pandas as pd\n",
    "import os\n",
    "from pathlib import Path\n",
    "\n",
    "import NeuronalNetwork as CNNet"
   ]
  },
  {
   "cell_type": "code",
   "execution_count": 246,
   "metadata": {},
   "outputs": [
    {
     "name": "stdout",
     "output_type": "stream",
     "text": [
      "Using cuda device\n"
     ]
    }
   ],
   "source": [
    "device = 'cuda' if torch.cuda.is_available() else 'cpu'\n",
    "print('Using {} device'.format(device))\n",
    "\n",
    "class CNNet(nn.Module):\n",
    "    def __init__(self):\n",
    "        super().__init__()\n",
    "        self.conv1 = nn.Conv2d(3, 32, kernel_size=5)\n",
    "        self.conv2 = nn.Conv2d(32, 64, kernel_size=5)\n",
    "        self.conv2_drop = nn.Dropout2d()\n",
    "        self.flatten = nn.Flatten()\n",
    "        self.fc1 = nn.Linear(51136, 50)\n",
    "        self.fc2 = nn.Linear(50, 2)\n",
    "\n",
    "\n",
    "    def forward(self, x):\n",
    "        x = F.relu(F.max_pool2d(self.conv1(x), 2))\n",
    "        x = F.relu(F.max_pool2d(self.conv2_drop(self.conv2(x)), 2))\n",
    "        #x = x.view(x.size(0), -1)\n",
    "        x = self.flatten(x)\n",
    "        x = F.relu(self.fc1(x))\n",
    "        x = F.dropout(x, training=self.training)\n",
    "        x = F.relu(self.fc2(x))\n",
    "        return F.log_softmax(x,dim=1)  \n"
   ]
  },
  {
   "cell_type": "code",
   "execution_count": 247,
   "metadata": {},
   "outputs": [],
   "source": [
    "def load_audio_file(path: str):\n",
    "\n",
    "    dataset = []\n",
    "    walker = sorted(str(p) for p in Path(path).glob(f'*.wav'))\n",
    "\n",
    "    for i, file_path in enumerate(walker):\n",
    "        path, filename = os.path.split(file_path)    \n",
    "        # Load audio\n",
    "        waveform, sample_rate = torchaudio.load(file_path)\n",
    "        dataset.append([waveform, sample_rate])\n",
    "        \n",
    "    return dataset"
   ]
  },
  {
   "cell_type": "code",
   "execution_count": 248,
   "metadata": {},
   "outputs": [],
   "source": [
    "model = CNNet()\n",
    "model.load_state_dict(torch.load('./data/model.pth'))\n",
    "model.eval()\n",
    "\n",
    "trainset_speechcommand = load_audio_file('./testaudio')\n",
    "\n",
    "testloader = torch.utils.data.DataLoader(trainset_speechcommand, batch_size=1,\n",
    "                                            shuffle=True, num_workers=0)\n"
   ]
  },
  {
   "cell_type": "code",
   "execution_count": 280,
   "metadata": {},
   "outputs": [
    {
     "name": "stdout",
     "output_type": "stream",
     "text": [
      "Data exists\n",
      "[[-20.323214  -24.938257  -22.680481  ...  -9.652863  -12.82978\n",
      "   -7.7300043]\n",
      " [-21.841885  -21.756824  -20.087286  ...  -8.05906   -10.274339\n",
      "   -8.517631 ]\n",
      " [-21.279036  -23.433155  -18.039644  ...  -7.9789057  -8.450219\n",
      "  -11.861316 ]\n",
      " ...\n",
      " [-26.869009  -25.95877   -25.062504  ... -24.650267  -28.011158\n",
      "  -30.295326 ]\n",
      " [-40.719624  -24.163355  -25.175873  ... -25.848898  -27.623299\n",
      "  -26.371065 ]\n",
      " [-25.931694  -23.238054  -26.589584  ... -23.138702  -25.016146\n",
      "  -24.734066 ]]\n"
     ]
    },
    {
     "ename": "ValueError",
     "evalue": "Found array with dim 3. the normalize function expected <= 2.",
     "output_type": "error",
     "traceback": [
      "\u001b[1;31m---------------------------------------------------------------------------\u001b[0m",
      "\u001b[1;31mValueError\u001b[0m                                Traceback (most recent call last)",
      "Cell \u001b[1;32mIn[280], line 14\u001b[0m\n\u001b[0;32m     12\u001b[0m \u001b[39mprint\u001b[39m(spectrogram_tensor[\u001b[39m0\u001b[39m]\u001b[39m.\u001b[39mlog2()[\u001b[39m0\u001b[39m,:,:]\u001b[39m.\u001b[39mnumpy())\n\u001b[0;32m     13\u001b[0m \u001b[39mfrom\u001b[39;00m \u001b[39msklearn\u001b[39;00m \u001b[39mimport\u001b[39;00m preprocessing\n\u001b[1;32m---> 14\u001b[0m normalized \u001b[39m=\u001b[39m preprocessing\u001b[39m.\u001b[39;49mnormalize(spectrogram_tensor[\u001b[39m0\u001b[39;49m]\u001b[39m.\u001b[39;49mnumpy())\n\u001b[0;32m     15\u001b[0m \u001b[39mprint\u001b[39m(normalized)\n",
      "File \u001b[1;32mc:\\Users\\s8gre\\AppData\\Local\\Programs\\Python\\Python39\\lib\\site-packages\\sklearn\\preprocessing\\_data.py:1817\u001b[0m, in \u001b[0;36mnormalize\u001b[1;34m(X, norm, axis, copy, return_norm)\u001b[0m\n\u001b[0;32m   1814\u001b[0m \u001b[39melse\u001b[39;00m:\n\u001b[0;32m   1815\u001b[0m     \u001b[39mraise\u001b[39;00m \u001b[39mValueError\u001b[39;00m(\u001b[39m\"\u001b[39m\u001b[39m'\u001b[39m\u001b[39m%d\u001b[39;00m\u001b[39m'\u001b[39m\u001b[39m is not a supported axis\u001b[39m\u001b[39m\"\u001b[39m \u001b[39m%\u001b[39m axis)\n\u001b[1;32m-> 1817\u001b[0m X \u001b[39m=\u001b[39m check_array(\n\u001b[0;32m   1818\u001b[0m     X,\n\u001b[0;32m   1819\u001b[0m     accept_sparse\u001b[39m=\u001b[39;49msparse_format,\n\u001b[0;32m   1820\u001b[0m     copy\u001b[39m=\u001b[39;49mcopy,\n\u001b[0;32m   1821\u001b[0m     estimator\u001b[39m=\u001b[39;49m\u001b[39m\"\u001b[39;49m\u001b[39mthe normalize function\u001b[39;49m\u001b[39m\"\u001b[39;49m,\n\u001b[0;32m   1822\u001b[0m     dtype\u001b[39m=\u001b[39;49mFLOAT_DTYPES,\n\u001b[0;32m   1823\u001b[0m )\n\u001b[0;32m   1824\u001b[0m \u001b[39mif\u001b[39;00m axis \u001b[39m==\u001b[39m \u001b[39m0\u001b[39m:\n\u001b[0;32m   1825\u001b[0m     X \u001b[39m=\u001b[39m X\u001b[39m.\u001b[39mT\n",
      "File \u001b[1;32mc:\\Users\\s8gre\\AppData\\Local\\Programs\\Python\\Python39\\lib\\site-packages\\sklearn\\utils\\validation.py:915\u001b[0m, in \u001b[0;36mcheck_array\u001b[1;34m(array, accept_sparse, accept_large_sparse, dtype, order, copy, force_all_finite, ensure_2d, allow_nd, ensure_min_samples, ensure_min_features, estimator, input_name)\u001b[0m\n\u001b[0;32m    910\u001b[0m     \u001b[39mraise\u001b[39;00m \u001b[39mValueError\u001b[39;00m(\n\u001b[0;32m    911\u001b[0m         \u001b[39m\"\u001b[39m\u001b[39mdtype=\u001b[39m\u001b[39m'\u001b[39m\u001b[39mnumeric\u001b[39m\u001b[39m'\u001b[39m\u001b[39m is not compatible with arrays of bytes/strings.\u001b[39m\u001b[39m\"\u001b[39m\n\u001b[0;32m    912\u001b[0m         \u001b[39m\"\u001b[39m\u001b[39mConvert your data to numeric values explicitly instead.\u001b[39m\u001b[39m\"\u001b[39m\n\u001b[0;32m    913\u001b[0m     )\n\u001b[0;32m    914\u001b[0m \u001b[39mif\u001b[39;00m \u001b[39mnot\u001b[39;00m allow_nd \u001b[39mand\u001b[39;00m array\u001b[39m.\u001b[39mndim \u001b[39m>\u001b[39m\u001b[39m=\u001b[39m \u001b[39m3\u001b[39m:\n\u001b[1;32m--> 915\u001b[0m     \u001b[39mraise\u001b[39;00m \u001b[39mValueError\u001b[39;00m(\n\u001b[0;32m    916\u001b[0m         \u001b[39m\"\u001b[39m\u001b[39mFound array with dim \u001b[39m\u001b[39m%d\u001b[39;00m\u001b[39m. \u001b[39m\u001b[39m%s\u001b[39;00m\u001b[39m expected <= 2.\u001b[39m\u001b[39m\"\u001b[39m\n\u001b[0;32m    917\u001b[0m         \u001b[39m%\u001b[39m (array\u001b[39m.\u001b[39mndim, estimator_name)\n\u001b[0;32m    918\u001b[0m     )\n\u001b[0;32m    920\u001b[0m \u001b[39mif\u001b[39;00m force_all_finite:\n\u001b[0;32m    921\u001b[0m     _assert_all_finite(\n\u001b[0;32m    922\u001b[0m         array,\n\u001b[0;32m    923\u001b[0m         input_name\u001b[39m=\u001b[39minput_name,\n\u001b[0;32m    924\u001b[0m         estimator_name\u001b[39m=\u001b[39mestimator_name,\n\u001b[0;32m    925\u001b[0m         allow_nan\u001b[39m=\u001b[39mforce_all_finite \u001b[39m==\u001b[39m \u001b[39m\"\u001b[39m\u001b[39mallow-nan\u001b[39m\u001b[39m\"\u001b[39m,\n\u001b[0;32m    926\u001b[0m     )\n",
      "\u001b[1;31mValueError\u001b[0m: Found array with dim 3. the normalize function expected <= 2."
     ]
    },
    {
     "data": {
      "text/plain": [
       "<Figure size 640x480 with 0 Axes>"
      ]
     },
     "metadata": {},
     "output_type": "display_data"
    }
   ],
   "source": [
    "spectrogram_tensor = None\n",
    "directory = f'./data/testimage/order'\n",
    "if(os.path.isdir(directory)):\n",
    "    print(\"Data exists\")\n",
    "else:\n",
    "    os.makedirs(directory, mode=0o777, exist_ok=True)\n",
    "spectorgram_value = None\n",
    "for data in testloader: \n",
    "    waveform = data[0]\n",
    "    spectrogram_tensor = torchaudio.transforms.Spectrogram()(waveform)\n",
    "    fig = plt.figure()\n",
    "    print(spectrogram_tensor[0].log2()[0,:,:].numpy())\n",
    "    from sklearn import preprocessing\n",
    "    scaler = preprocessing.MinMaxScaler\n",
    "    normalized = scaler.fit_transform(spectrogram_tensor[0].log2()[0,:,:].numpy())\n",
    "    print(normalized)\n",
    "    "
   ]
  },
  {
   "cell_type": "code",
   "execution_count": 263,
   "metadata": {},
   "outputs": [
    {
     "name": "stdout",
     "output_type": "stream",
     "text": [
      "(tensor([[[0.1412, 0.1804, 0.1608,  ..., 0.2431, 0.1490, 0.3255],\n",
      "         [0.1529, 0.1529, 0.1412,  ..., 0.3098, 0.2235, 0.2941],\n",
      "         [0.1490, 0.1686, 0.1255,  ..., 0.3176, 0.2941, 0.1725],\n",
      "         ...,\n",
      "         [0.2000, 0.1922, 0.1804,  ..., 0.1804, 0.2118, 0.2392],\n",
      "         [0.2667, 0.1725, 0.1843,  ..., 0.1922, 0.2078, 0.1961],\n",
      "         [0.1922, 0.1647, 0.1961,  ..., 0.1647, 0.1804, 0.1804]],\n",
      "\n",
      "        [[0.5216, 0.4196, 0.4706,  ..., 0.7373, 0.6745, 0.7725],\n",
      "         [0.4863, 0.4863, 0.5255,  ..., 0.7647, 0.7255, 0.7608],\n",
      "         [0.4980, 0.4549, 0.5686,  ..., 0.7686, 0.7608, 0.6941],\n",
      "         ...,\n",
      "         [0.3765, 0.4000, 0.4196,  ..., 0.4275, 0.3529, 0.2980],\n",
      "         [0.0039, 0.4392, 0.4157,  ..., 0.4000, 0.3608, 0.3882],\n",
      "         [0.4000, 0.4588, 0.3843,  ..., 0.4627, 0.4196, 0.4235]],\n",
      "\n",
      "        [[0.5529, 0.5569, 0.5569,  ..., 0.4510, 0.5059, 0.4039],\n",
      "         [0.5569, 0.5569, 0.5529,  ..., 0.4118, 0.4627, 0.4235],\n",
      "         [0.5569, 0.5569, 0.5490,  ..., 0.4078, 0.4235, 0.4902],\n",
      "         ...,\n",
      "         [0.5529, 0.5529, 0.5569,  ..., 0.5569, 0.5490, 0.5373],\n",
      "         [0.3294, 0.5569, 0.5529,  ..., 0.5529, 0.5490, 0.5529],\n",
      "         [0.5529, 0.5569, 0.5529,  ..., 0.5569, 0.5569, 0.5569]]]), 0)\n"
     ]
    }
   ],
   "source": [
    "dataset = datasets.ImageFolder(\n",
    "    root=\"./data/testimage/\",\n",
    "    transform=transforms.Compose([transforms.Resize((201,81)),\n",
    "                                  transforms.ToTensor()])\n",
    ")\n",
    "print(dataset[0])"
   ]
  },
  {
   "cell_type": "code",
   "execution_count": 251,
   "metadata": {},
   "outputs": [],
   "source": [
    "test_dataloader = torch.utils.data.DataLoader(\n",
    "    dataset,\n",
    "    batch_size=15,\n",
    "    num_workers=2,\n",
    "    shuffle=True\n",
    ")\n"
   ]
  },
  {
   "cell_type": "code",
   "execution_count": 252,
   "metadata": {},
   "outputs": [],
   "source": [
    "classes = [\n",
    "    \"no\",\n",
    "    \"yes\"\n",
    "]\n"
   ]
  },
  {
   "cell_type": "code",
   "execution_count": 253,
   "metadata": {},
   "outputs": [
    {
     "name": "stdout",
     "output_type": "stream",
     "text": [
      "Predicted: \"no\"\n"
     ]
    }
   ],
   "source": [
    "model.eval()\n",
    "for batch, (X,Y) in enumerate(test_dataloader):\n",
    "    pred = model(X)\n",
    "    predicted = classes[pred[0].argmax(0)]\n",
    "    print(f'Predicted: \"{predicted}\"')"
   ]
  }
 ],
 "metadata": {
  "kernelspec": {
   "display_name": "Python 3",
   "language": "python",
   "name": "python3"
  },
  "language_info": {
   "codemirror_mode": {
    "name": "ipython",
    "version": 3
   },
   "file_extension": ".py",
   "mimetype": "text/x-python",
   "name": "python",
   "nbconvert_exporter": "python",
   "pygments_lexer": "ipython3",
   "version": "3.9.1"
  },
  "orig_nbformat": 4,
  "vscode": {
   "interpreter": {
    "hash": "a7a041d1134705da44353d01ddd658c6575333281888fab0a4d55d2b3f61ed6c"
   }
  }
 },
 "nbformat": 4,
 "nbformat_minor": 2
}
