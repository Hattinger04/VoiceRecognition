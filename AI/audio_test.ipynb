{
 "cells": [
  {
   "cell_type": "code",
   "execution_count": 31,
   "metadata": {},
   "outputs": [
    {
     "name": "stdout",
     "output_type": "stream",
     "text": [
      "soundfile\n"
     ]
    }
   ],
   "source": [
    "from torch.utils.data import DataLoader\n",
    "from torchvision import datasets, transforms\n",
    "import torch\n",
    "import torchaudio\n",
    "import torch.nn as nn\n",
    "import torch.nn.functional as F\n",
    "import torch.optim as optim\n",
    "import numpy as np\n",
    "import matplotlib.pyplot as plt\n",
    "from torch.utils.data import Dataset, DataLoader\n",
    "from torchvision import datasets, models, transforms\n",
    "from torchinfo import summary\n",
    "import pandas as pd\n",
    "import os\n",
    "from pathlib import Path\n",
    "import soundfile"
   ]
  },
  {
   "cell_type": "code",
   "execution_count": 32,
   "metadata": {},
   "outputs": [
    {
     "name": "stdout",
     "output_type": "stream",
     "text": [
      "Using cpu device\n"
     ]
    }
   ],
   "source": [
    "device = 'cuda' if torch.cuda.is_available() else 'cpu'\n",
    "print('Using {} device'.format(device))\n",
    "\n",
    "class CNNet(nn.Module):\n",
    "    def __init__(self):\n",
    "        super().__init__()\n",
    "        self.conv1 = nn.Conv2d(3, 32, kernel_size=5)\n",
    "        self.conv2 = nn.Conv2d(32, 64, kernel_size=5)\n",
    "        self.conv2_drop = nn.Dropout2d()\n",
    "        self.flatten = nn.Flatten()\n",
    "        self.fc1 = nn.Linear(51136, 50)\n",
    "        self.fc2 = nn.Linear(50, 2)\n",
    "\n",
    "\n",
    "    def forward(self, x):\n",
    "        x = F.relu(F.max_pool2d(self.conv1(x), 2))\n",
    "        x = F.relu(F.max_pool2d(self.conv2_drop(self.conv2(x)), 2))\n",
    "        #x = x.view(x.size(0), -1)\n",
    "        x = self.flatten(x)\n",
    "        x = F.relu(self.fc1(x))\n",
    "        x = F.dropout(x, training=self.training)\n",
    "        x = F.relu(self.fc2(x))\n",
    "        return F.log_softmax(x,dim=1)  \n"
   ]
  },
  {
   "cell_type": "code",
   "execution_count": 33,
   "metadata": {},
   "outputs": [],
   "source": [
    "def load_audio_file(path: str):\n",
    "\n",
    "    dataset = []\n",
    "    walker = sorted(str(p) for p in Path(path).glob(f'*.wav'))\n",
    "\n",
    "    for i, file_path in enumerate(walker):\n",
    "        path, filename = os.path.split(file_path)\n",
    "        # Load audio\n",
    "        waveform, sample_rate = torchaudio.load(file_path)\n",
    "        dataset.append([waveform, sample_rate])\n",
    "\n",
    "    return dataset"
   ]
  },
  {
   "cell_type": "code",
   "execution_count": 34,
   "metadata": {},
   "outputs": [
    {
     "name": "stdout",
     "output_type": "stream",
     "text": [
      "soundfile\n"
     ]
    }
   ],
   "source": [
    "print(str(torchaudio.get_audio_backend()))\n",
    "model = CNNet()\n",
    "model.load_state_dict(torch.load('./data/model.pth',map_location=torch.device('cpu')))\n",
    "model.eval()\n",
    "\n",
    "speechcommand = load_audio_file('./testaudio')\n",
    "\n",
    "testloader = torch.utils.data.DataLoader(speechcommand, batch_size=1,\n",
    "                                            shuffle=True, num_workers=0)\n"
   ]
  },
  {
   "cell_type": "code",
   "execution_count": null,
   "metadata": {},
   "outputs": [],
   "source": [
    "spectrogram_tensor = None\n",
    "directory = f'./data/testimage/order'\n",
    "if(os.path.isdir(directory)):\n",
    "    print(\"Data exists\")\n",
    "else:\n",
    "    os.makedirs(directory, mode=0o777, exist_ok=True)\n",
    "spectorgram_value = None\n",
    "for data in testloader: \n",
    "    waveform = data[0]\n",
    "    spectrogram_tensor = torchaudio.transforms.Spectrogram()(waveform)\n",
    "    \"\"\"\n",
    "    spectrogram = torch.tensor(spectrogram_tensor[0].log2()[0,:,:].numpy())\n",
    "    spectrogram += abs(spectrogram.min())\n",
    "    spectrogram = torch.nn.functional.normalize(spectrogram, dim=0, p=2)\n",
    "    spectrogram /= spectrogram.max()\n",
    "\n",
    "    print(len(spectrogram), len(spectrogram[0]))\n",
    "    print(spectrogram)\n",
    "    \"\"\"\n",
    "    fig = plt.figure()\n",
    "    plt.imsave(f'./data/testimage/order/test.png', spectrogram_tensor[0].log2()[0,:,:].numpy(), cmap='viridis')\n",
    "    "
   ]
  },
  {
   "cell_type": "code",
   "execution_count": null,
   "metadata": {},
   "outputs": [],
   "source": [
    "dataset = datasets.ImageFolder(\n",
    "    root=\"./data/testimage/\",\n",
    "    transform=transforms.Compose([transforms.Resize((201,81)),\n",
    "                                  transforms.ToTensor()])\n",
    ")\n",
    "print(dataset[0])"
   ]
  },
  {
   "cell_type": "code",
   "execution_count": 37,
   "metadata": {},
   "outputs": [],
   "source": [
    "test_dataloader = torch.utils.data.DataLoader(\n",
    "    dataset,\n",
    "    batch_size=15,\n",
    "    num_workers=2,\n",
    "    shuffle=True\n",
    ")\n"
   ]
  },
  {
   "cell_type": "code",
   "execution_count": 38,
   "metadata": {},
   "outputs": [],
   "source": [
    "classes = [\n",
    "    \"no\",\n",
    "    \"yes\"\n",
    "]\n"
   ]
  },
  {
   "cell_type": "code",
   "execution_count": 40,
   "metadata": {},
   "outputs": [
    {
     "name": "stdout",
     "output_type": "stream",
     "text": [
      "tensor(0.9017, grad_fn=<SelectBackward0>)\n",
      "no definite answer\n"
     ]
    }
   ],
   "source": [
    "model.eval()\n",
    "for batch, (X,Y) in enumerate(test_dataloader):\n",
    "    pred = model(X)\n",
    "    predicted = classes[pred[0].argmax(0)]\n",
    "    prediction = pred[0].softmax(0)\n",
    "    print(prediction[pred[0].argmax(0)])\n",
    "    if prediction[pred[0].argmax(0)] > 0.95:\n",
    "        \n",
    "        print(f'Predicted: \"{predicted}\"')\n",
    "    else:\n",
    "        print(\"no definite answer\")"
   ]
  }
 ],
 "metadata": {
  "kernelspec": {
   "display_name": "Python 3",
   "language": "python",
   "name": "python3"
  },
  "language_info": {
   "codemirror_mode": {
    "name": "ipython",
    "version": 3
   },
   "file_extension": ".py",
   "mimetype": "text/x-python",
   "name": "python",
   "nbconvert_exporter": "python",
   "pygments_lexer": "ipython3",
   "version": "3.9.13"
  },
  "orig_nbformat": 4,
  "vscode": {
   "interpreter": {
    "hash": "bf67664c1e67c5c5debfa363a39ab47633de1bd86c59a078658d13532f777a14"
   }
  }
 },
 "nbformat": 4,
 "nbformat_minor": 2
}
